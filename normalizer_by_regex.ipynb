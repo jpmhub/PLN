{
 "cells": [
  {
   "cell_type": "markdown",
   "id": "de57da36",
   "metadata": {},
   "source": [
    "Juan Pablo Márquez 2022"
   ]
  },
  {
   "cell_type": "code",
   "execution_count": 2,
   "id": "a0ec5dc9",
   "metadata": {},
   "outputs": [
    {
     "name": "stdout",
     "output_type": "stream",
     "text": [
      "Extensió:  jpg És un format imatge\n",
      "Extensió:  png És un format imatge\n",
      "Extensió:  gif És un format imatge\n",
      "Extensió:  mp3 NO és un format imatge\n",
      "Extensió:  doc NO és un format imatge\n"
     ]
    }
   ],
   "source": [
    "#exemple funció MATCH la qual fa un emparellament perfecte, és a dir, ha de conincidir exactament\n",
    "import re\n",
    "extensions = ['jpg', 'png', 'gif', 'mp3', 'doc'] #vector formats que vull comprovar\n",
    "for tipusarxiu in extensions:\n",
    "    if re.match('jpg|png|gif|bmp', tipusarxiu): #per cada format del meu vector comprovam si es una imatge o no\n",
    "        print('Extensió: ', tipusarxiu, 'És un format imatge')\n",
    "    else:\n",
    "        print('Extensió: ', tipusarxiu, 'NO és un format imatge')"
   ]
  },
  {
   "cell_type": "code",
   "execution_count": 3,
   "id": "251764e3",
   "metadata": {},
   "outputs": [
    {
     "name": "stdout",
     "output_type": "stream",
     "text": [
      "http://www.ccc.es\n"
     ]
    }
   ],
   "source": [
    "#exemple funció SEARCH\n",
    "#donat un vector de pàgines web vull saber quines són del domini espanyol 'es'\n",
    "lista_url = ['http://www.aaa.net',\n",
    "             'ftp://www.bbb.com',\n",
    "             'http://www.ccc.es']\n",
    "for elemento in lista_url:\n",
    "    if re.search('es$', elemento):#el símbol $ indica que és el final de la cadena. Això vol dir que cercam una cadena que acabi en 'es'\n",
    "        print(elemento)"
   ]
  },
  {
   "cell_type": "code",
   "execution_count": 11,
   "id": "932c2579",
   "metadata": {},
   "outputs": [
    {
     "name": "stdout",
     "output_type": "stream",
     "text": [
      "#laSextaTTL\n",
      "#laSextaNuevaTemporada\n"
     ]
    }
   ],
   "source": [
    "#Altra exemple funció SEARCH\n",
    "lista_url = ['#laSextaTTL',\n",
    "             '#telecinco',\n",
    "             'Noes#laSextaNoche',\n",
    "             '#laSextaNuevaTemporada']\n",
    "for elemento in lista_url:\n",
    "    if re.search('^#laSexta', elemento):#el símbol ^ indica que és el princpi de la cadena. Això vol dir que cercam un hastag que comenci per #laSexta\n",
    "        print(elemento)"
   ]
  },
  {
   "cell_type": "code",
   "execution_count": 12,
   "id": "12cc42bc",
   "metadata": {},
   "outputs": [
    {
     "data": {
      "text/plain": [
       "['@trump', '@yomismo']"
      ]
     },
     "execution_count": 12,
     "metadata": {},
     "output_type": "execute_result"
    }
   ],
   "source": [
    "#exemple funció FINDALL, la qual troba tots el patrons que li indiquem\n",
    "#en aquest exemple vull trobat totes les mencions, és a dir, patrons que comencin per @\n",
    "mencions = \"@trump  #trump @yomismo \"\n",
    "re.findall(r'@\\w+', mencions) # cadena que comenci per @ seguida d'un o més caràcters alfanumèrics (\\w vol dir caràcter alfanumèric i + un o més)"
   ]
  },
  {
   "cell_type": "code",
   "execution_count": 6,
   "id": "e7ebd398",
   "metadata": {},
   "outputs": [
    {
     "data": {
      "text/plain": [
       "['http://servicio']"
      ]
     },
     "execution_count": 6,
     "metadata": {},
     "output_type": "execute_result"
    }
   ],
   "source": [
    "#Altra exemple funció FINDALL\n",
    "texto = \"http://servicio.com  https://masmovil.com @yomismo \"\n",
    "re.findall(r'http://\\w+', texto)"
   ]
  },
  {
   "cell_type": "code",
   "execution_count": 3,
   "id": "fd8038ff",
   "metadata": {},
   "outputs": [
    {
     "name": "stdout",
     "output_type": "stream",
     "text": [
      "hooooooolaa queeeeee passaaaaaaaa res?\n",
      "hooooooola queeeee passaaaaaaa res?\n",
      "hoooooola queeee passaaaaaa res?\n",
      "hooooola queee passaaaaa res?\n",
      "hoooola quee passaaaa res?\n",
      "hooola que passaaa res?\n",
      "hoola que passaa res?\n",
      "hola que passa res?\n",
      "hola que pasa res?\n",
      "hola que pasa res?\n"
     ]
    },
    {
     "data": {
      "text/plain": [
       "'hola que pasa res?'"
      ]
     },
     "execution_count": 3,
     "metadata": {},
     "output_type": "execute_result"
    }
   ],
   "source": [
    "#Eliminació de caracters repetits fent crida recursiva\n",
    "import re\n",
    "def normalitzar (terme): # definim la funció 'normlitzar' i li passem el terme que volem corregir\n",
    "    regexp = re.compile(r'(\\w*)(\\w)\\2(\\w*)') \n",
    "        #definim expressió regular que estaria composada per 3 subpatrons i la compilam per després poder cercar-la\n",
    "        #primer subpatró = (\\w*) cap o molts caràcters alfanumèrics. La '\\w' indica un caràcter alfanumèric.\n",
    "        #segon subpatró = (\\w)\\2 dos caràcters alfanumèrics repetits, és a dir, almenys hi ha una lletra repetida\n",
    "        # La '\\2' indica que el segon patró (\\w) es repeteix almenys una altra vegada, és a dir, hi ha una lletra repetida.\n",
    "        #tercer subpatró = (\\w*) cap o molts caràcters alfanumèrics\n",
    "    repl = r'\\1\\2\\3'#aquesta seria la cadena que vull obtenir: patró 1 + patró 2 + patró 3 \n",
    "                    #així cada vegada llevarem una lletra repetida\n",
    "    terme_repetit = regexp.sub(repl, terme) # 'sub' és un mètode per substituir.\n",
    "    # la variable 'terme_repetit' tendrà ara una lletra repetida menys.\n",
    "    print(terme_repetit)\n",
    "    if terme_repetit != terme: #mentre els dos termes siguin diferents queden lletres duplicades per llevar\n",
    "        return normalitzar(terme_repetit) #crida recursiva\n",
    "    else:\n",
    "        return terme_repetit #quan els dos termes coincideixin és que ja no queden més lletres per llevar. \n",
    "                             #Fixar-vos que les dues darreres iteracions són iguals!\n",
    "normalitzar ('hooooooolaaa queeeeeee passaaaaaaaaa res?')\n",
    "#VEIS ALGUNA COSA QUE NO VOS AGRADI DEL RESULTAT FINAL??????"
   ]
  },
  {
   "cell_type": "code",
   "execution_count": null,
   "id": "c2e16ac0",
   "metadata": {},
   "outputs": [],
   "source": []
  }
 ],
 "metadata": {
  "kernelspec": {
   "display_name": "Python 3 (ipykernel)",
   "language": "python",
   "name": "python3"
  },
  "language_info": {
   "codemirror_mode": {
    "name": "ipython",
    "version": 3
   },
   "file_extension": ".py",
   "mimetype": "text/x-python",
   "name": "python",
   "nbconvert_exporter": "python",
   "pygments_lexer": "ipython3",
   "version": "3.9.7"
  }
 },
 "nbformat": 4,
 "nbformat_minor": 5
}
