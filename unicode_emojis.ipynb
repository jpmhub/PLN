{
 "cells": [
  {
   "cell_type": "markdown",
   "id": "6a0961ad",
   "metadata": {},
   "source": [
    "Juan Pablo Márquez 2022"
   ]
  },
  {
   "cell_type": "code",
   "execution_count": 1,
   "id": "d8dc6789",
   "metadata": {},
   "outputs": [
    {
     "name": "stdout",
     "output_type": "stream",
     "text": [
      "['🌀-🗿'|'😀-🙏'|'🚀-🛺'|'☎-⛿-✀-➿']\n"
     ]
    }
   ],
   "source": [
    "#UNICODE\n",
    "!pip install unidecode\n",
    "import unidecode\n",
    "#recordar que cada emoticona té una codificació unicode i que és interessant substituir-los per algun dels seus\n",
    "#significats: alegria, pena...\n",
    "#en aquest cas cream la variable emoji la qual contendrà la llista codificada de tots els emoticones que hi ha\n",
    "#tots els emoticones disponibles es troben a la pàgina https://unicode.org/emoji/charts/full-emoji-list.html\n",
    "emoji = \"['\\U0001F300-\\U0001F5FF'|'\\U0001F600-\\U0001F64F'|'\\U0001F680-\\U0001F6FA'|'\\u260E-\\u26FF-\\u2700-\\u27BF']\"\n",
    "print(emoji)"
   ]
  },
  {
   "cell_type": "code",
   "execution_count": 2,
   "id": "305d0558",
   "metadata": {},
   "outputs": [
    {
     "name": "stdout",
     "output_type": "stream",
     "text": [
      "['🗿', '😀', '☎']\n"
     ]
    }
   ],
   "source": [
    "#empram la llibreria 're' per poder utilitzar el metode findall\n",
    "#en aquest cas cercarem si dins el missatge que conté la variable 'text' hi ha algun emoticona\n",
    "import re\n",
    "text= \"Hola🗿😀☎\"\n",
    "print (re.findall(u'[\\U0001F300-\\U0001F5FF | \\U0001F600-\\U0001F64F | \\U0001F680-\\U0001F6FA | \\u260E-\\u26FF-\\u2700-\\u27BF]', text))"
   ]
  },
  {
   "cell_type": "code",
   "execution_count": null,
   "id": "ebb14c0a",
   "metadata": {},
   "outputs": [],
   "source": []
  }
 ],
 "metadata": {
  "kernelspec": {
   "display_name": "Python 3.10.1 64-bit",
   "language": "python",
   "name": "python3"
  },
  "language_info": {
   "codemirror_mode": {
    "name": "ipython",
    "version": 3
   },
   "file_extension": ".py",
   "mimetype": "text/x-python",
   "name": "python",
   "nbconvert_exporter": "python",
   "pygments_lexer": "ipython3",
   "version": "3.10.1"
  },
  "vscode": {
   "interpreter": {
    "hash": "fb4569285eef3a3450cb62085a5b1e0da4bce0af555edc33dcf29baf3acc1368"
   }
  }
 },
 "nbformat": 4,
 "nbformat_minor": 5
}
