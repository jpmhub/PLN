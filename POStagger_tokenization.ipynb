{
 "cells": [
  {
   "cell_type": "code",
   "execution_count": 6,
   "id": "49955f85",
   "metadata": {},
   "outputs": [
    {
     "name": "stderr",
     "output_type": "stream",
     "text": [
      "[nltk_data] Downloading collection 'popular'\n",
      "[nltk_data]    | \n",
      "[nltk_data]    | Downloading package cmudict to\n",
      "[nltk_data]    |     C:\\Users\\anton\\AppData\\Roaming\\nltk_data...\n",
      "[nltk_data]    |   Package cmudict is already up-to-date!\n",
      "[nltk_data]    | Downloading package gazetteers to\n",
      "[nltk_data]    |     C:\\Users\\anton\\AppData\\Roaming\\nltk_data...\n",
      "[nltk_data]    |   Package gazetteers is already up-to-date!\n",
      "[nltk_data]    | Downloading package genesis to\n",
      "[nltk_data]    |     C:\\Users\\anton\\AppData\\Roaming\\nltk_data...\n",
      "[nltk_data]    |   Package genesis is already up-to-date!\n",
      "[nltk_data]    | Downloading package gutenberg to\n",
      "[nltk_data]    |     C:\\Users\\anton\\AppData\\Roaming\\nltk_data...\n",
      "[nltk_data]    |   Package gutenberg is already up-to-date!\n",
      "[nltk_data]    | Downloading package inaugural to\n",
      "[nltk_data]    |     C:\\Users\\anton\\AppData\\Roaming\\nltk_data...\n",
      "[nltk_data]    |   Package inaugural is already up-to-date!\n",
      "[nltk_data]    | Downloading package movie_reviews to\n",
      "[nltk_data]    |     C:\\Users\\anton\\AppData\\Roaming\\nltk_data...\n",
      "[nltk_data]    |   Package movie_reviews is already up-to-date!\n",
      "[nltk_data]    | Downloading package names to\n",
      "[nltk_data]    |     C:\\Users\\anton\\AppData\\Roaming\\nltk_data...\n",
      "[nltk_data]    |   Package names is already up-to-date!\n",
      "[nltk_data]    | Downloading package shakespeare to\n",
      "[nltk_data]    |     C:\\Users\\anton\\AppData\\Roaming\\nltk_data...\n",
      "[nltk_data]    |   Package shakespeare is already up-to-date!\n",
      "[nltk_data]    | Downloading package stopwords to\n",
      "[nltk_data]    |     C:\\Users\\anton\\AppData\\Roaming\\nltk_data...\n",
      "[nltk_data]    |   Package stopwords is already up-to-date!\n",
      "[nltk_data]    | Downloading package treebank to\n",
      "[nltk_data]    |     C:\\Users\\anton\\AppData\\Roaming\\nltk_data...\n",
      "[nltk_data]    |   Package treebank is already up-to-date!\n",
      "[nltk_data]    | Downloading package twitter_samples to\n",
      "[nltk_data]    |     C:\\Users\\anton\\AppData\\Roaming\\nltk_data...\n",
      "[nltk_data]    |   Package twitter_samples is already up-to-date!\n",
      "[nltk_data]    | Downloading package omw-1.4 to\n",
      "[nltk_data]    |     C:\\Users\\anton\\AppData\\Roaming\\nltk_data...\n",
      "[nltk_data]    |   Package omw-1.4 is already up-to-date!\n",
      "[nltk_data]    | Downloading package omw to\n",
      "[nltk_data]    |     C:\\Users\\anton\\AppData\\Roaming\\nltk_data...\n",
      "[nltk_data]    |   Package omw is already up-to-date!\n",
      "[nltk_data]    | Downloading package wordnet to\n",
      "[nltk_data]    |     C:\\Users\\anton\\AppData\\Roaming\\nltk_data...\n",
      "[nltk_data]    |   Package wordnet is already up-to-date!\n",
      "[nltk_data]    | Downloading package wordnet31 to\n",
      "[nltk_data]    |     C:\\Users\\anton\\AppData\\Roaming\\nltk_data...\n",
      "[nltk_data]    |   Package wordnet31 is already up-to-date!\n",
      "[nltk_data]    | Downloading package wordnet_ic to\n",
      "[nltk_data]    |     C:\\Users\\anton\\AppData\\Roaming\\nltk_data...\n",
      "[nltk_data]    |   Package wordnet_ic is already up-to-date!\n",
      "[nltk_data]    | Downloading package words to\n",
      "[nltk_data]    |     C:\\Users\\anton\\AppData\\Roaming\\nltk_data...\n",
      "[nltk_data]    |   Package words is already up-to-date!\n",
      "[nltk_data]    | Downloading package maxent_ne_chunker to\n",
      "[nltk_data]    |     C:\\Users\\anton\\AppData\\Roaming\\nltk_data...\n",
      "[nltk_data]    |   Package maxent_ne_chunker is already up-to-date!\n",
      "[nltk_data]    | Downloading package punkt to\n",
      "[nltk_data]    |     C:\\Users\\anton\\AppData\\Roaming\\nltk_data...\n",
      "[nltk_data]    |   Package punkt is already up-to-date!\n",
      "[nltk_data]    | Downloading package snowball_data to\n",
      "[nltk_data]    |     C:\\Users\\anton\\AppData\\Roaming\\nltk_data...\n",
      "[nltk_data]    |   Package snowball_data is already up-to-date!\n",
      "[nltk_data]    | Downloading package averaged_perceptron_tagger to\n",
      "[nltk_data]    |     C:\\Users\\anton\\AppData\\Roaming\\nltk_data...\n",
      "[nltk_data]    |   Package averaged_perceptron_tagger is already up-\n",
      "[nltk_data]    |       to-date!\n",
      "[nltk_data]    | \n",
      "[nltk_data]  Done downloading collection popular\n"
     ]
    }
   ],
   "source": [
    "#emprarem la llibreria NLTK, concretament el tokenitzador a nivell de paraula 'word_tokenize'.\n",
    "import nltk\n",
    "nltk.download(\"popular\")\n",
    "from nltk.tokenize import word_tokenize"
   ]
  },
  {
   "cell_type": "code",
   "execution_count": 7,
   "id": "1e53aa09",
   "metadata": {},
   "outputs": [
    {
     "name": "stdout",
     "output_type": "stream",
     "text": [
      "['Trump', 'has', 'a', 'wonderful', 'natural', 'hair', 'color', '.']\n"
     ]
    }
   ],
   "source": [
    "# fixau-vos que ens posa el punt '.' com un token més... \n",
    "# per això és tan important netejar el text abans i aquests tokens ja no sortiran aquí.\n",
    "frase = \"Trump has a wonderful natural hair color.\"\n",
    "tokens = nltk.word_tokenize(frase)\n",
    "print(tokens)"
   ]
  },
  {
   "cell_type": "code",
   "execution_count": 8,
   "id": "9bbaf85a",
   "metadata": {},
   "outputs": [
    {
     "name": "stdout",
     "output_type": "stream",
     "text": [
      "['Trump', 'tiene', 'un', 'color', 'de', 'pelo', 'natural', 'maravilloso', '.']\n"
     ]
    }
   ],
   "source": [
    "frase = \"Trump tiene un color de pelo natural maravilloso.\"\n",
    "tokens = nltk.word_tokenize(frase)\n",
    "print(tokens)"
   ]
  },
  {
   "cell_type": "code",
   "execution_count": 9,
   "id": "9f31e59d",
   "metadata": {},
   "outputs": [
    {
     "data": {
      "text/plain": [
       "['Trump', 'tiene', 'un', 'color', 'de', 'pelo', 'natural', 'maravilloso.']"
      ]
     },
     "execution_count": 9,
     "metadata": {},
     "output_type": "execute_result"
    }
   ],
   "source": [
    "# split és un mètode de la classe string de python que també ens separa la cadena\n",
    "# separa la cadena segons el separador que li passem, per defecte espai en blanc.\n",
    "# fixau-vos que en aquest cas posa el punt com a part del darrer token.\n",
    "frase = \"Trump tiene un color de pelo natural maravilloso.\"\n",
    "frase.split()"
   ]
  },
  {
   "cell_type": "code",
   "execution_count": 10,
   "id": "1c014249",
   "metadata": {},
   "outputs": [
    {
     "name": "stdout",
     "output_type": "stream",
     "text": [
      "Hola, el meu nom és Antònia\n"
     ]
    },
    {
     "data": {
      "text/plain": [
       "['Hola,', 'el', 'meu', 'nom', 'és', 'Antònia']"
      ]
     },
     "execution_count": 10,
     "metadata": {},
     "output_type": "execute_result"
    }
   ],
   "source": [
    "# per evitar els problemes anteriors amb els signes de puntuació bastaria eliminar-los abans\n",
    "# per exemple amb la funció 'replace'\n",
    "texte='Hola, el meu nom és Antònia.'\n",
    "x=texte.replace('.','')\n",
    "print(x)\n",
    "x.split()"
   ]
  },
  {
   "cell_type": "code",
   "execution_count": 11,
   "id": "b9a52959",
   "metadata": {},
   "outputs": [
    {
     "data": {
      "text/plain": [
       "[('What', 'WP'),\n",
       " ('is', 'VBZ'),\n",
       " ('the', 'DT'),\n",
       " ('best', 'JJS'),\n",
       " ('team', 'NN'),\n",
       " ('?', '.')]"
      ]
     },
     "execution_count": 11,
     "metadata": {},
     "output_type": "execute_result"
    }
   ],
   "source": [
    "# per fer un anàlisi lèxic, POS tagging (Parts of Speech), emprarem el mètode 'pos_tag' de NLTK\n",
    "# WP:WP wh-pronoun who/what, VBZ:verb en 3a persona, DT:determinant, JJS:adjectiu superlatiu, NN:nom comú singular\n",
    "texte = word_tokenize(\"What is the best team?\")\n",
    "nltk.pos_tag(texte)"
   ]
  },
  {
   "cell_type": "code",
   "execution_count": 12,
   "id": "af70e9c4",
   "metadata": {},
   "outputs": [
    {
     "data": {
      "text/plain": [
       "[('Hola', 'NNP'),\n",
       " (',', ','),\n",
       " ('mi', 'NN'),\n",
       " ('nombre', 'JJ'),\n",
       " ('es', 'NN'),\n",
       " ('Antonia', 'NNP')]"
      ]
     },
     "execution_count": 12,
     "metadata": {},
     "output_type": "execute_result"
    }
   ],
   "source": [
    "texte = word_tokenize(\"Hola, mi nombre es Antonia\")\n",
    "nltk.pos_tag(texte)"
   ]
  },
  {
   "cell_type": "code",
   "execution_count": 32,
   "id": "5a10e27f",
   "metadata": {},
   "outputs": [
    {
     "data": {
      "text/plain": [
       "['  Hola, mi nombre es Antonia.', 'Mi casa no estoy segura de dónde está.']"
      ]
     },
     "execution_count": 32,
     "metadata": {},
     "output_type": "execute_result"
    }
   ],
   "source": [
    "# exemple tokenització a nivell de frase 'sent_tokenize'\n",
    "from nltk.tokenize import sent_tokenize\n",
    "EXEMPLE_FRASES = \"  Hola, mi nombre es Antonia. Mi casa no estoy segura de dónde está.  \"\n",
    "sent_tokenize(EXEMPLE_FRASES)"
   ]
  },
  {
   "cell_type": "code",
   "execution_count": 33,
   "id": "c429102a",
   "metadata": {},
   "outputs": [
    {
     "name": "stdout",
     "output_type": "stream",
     "text": [
      "Primera frase: Hola, mi nombre es Antonia\n",
      "Segona frase: Mi casa no estoy segura de dónde está\n"
     ]
    }
   ],
   "source": [
    "#també es pot fer amb el mètode 'split' tenint posant com a separador el símbol '.'\n",
    "frases=EXEMPLE_FRASES.split(\".\") # especificam que el separador és el '.' \n",
    "# el vector 'frases' tendrà a cada posició una frase diferent\n",
    "primera=frases[0].strip() # el mètode 'strip' elimina els espais en blanc inicials o finals de cada frase.\n",
    "print(\"Primera frase: \"+primera)\n",
    "segona=frases[1].strip()\n",
    "print(\"Segona frase: \"+segona)"
   ]
  },
  {
   "cell_type": "code",
   "execution_count": null,
   "id": "3ab70ad2",
   "metadata": {},
   "outputs": [],
   "source": []
  }
 ],
 "metadata": {
  "kernelspec": {
   "display_name": "Python 3 (ipykernel)",
   "language": "python",
   "name": "python3"
  },
  "language_info": {
   "codemirror_mode": {
    "name": "ipython",
    "version": 3
   },
   "file_extension": ".py",
   "mimetype": "text/x-python",
   "name": "python",
   "nbconvert_exporter": "python",
   "pygments_lexer": "ipython3",
   "version": "3.9.7"
  }
 },
 "nbformat": 4,
 "nbformat_minor": 5
}
