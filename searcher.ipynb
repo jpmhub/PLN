{
 "cells": [
  {
   "cell_type": "markdown",
   "id": "217ce74c",
   "metadata": {},
   "source": [
    "Juan Pablo Márquez 2022"
   ]
  },
  {
   "cell_type": "code",
   "execution_count": 1,
   "id": "710373d8",
   "metadata": {},
   "outputs": [
    {
     "name": "stdout",
     "output_type": "stream",
     "text": [
      "Requirement already satisfied: whoosh in c:\\users\\user\\anaconda\\lib\\site-packages (2.7.4)\n"
     ]
    }
   ],
   "source": [
    "# Instal·lem la llibreria whoosh que ens permetrà crear l'índex\n",
    "!pip install whoosh"
   ]
  },
  {
   "cell_type": "code",
   "execution_count": 2,
   "id": "399af788",
   "metadata": {},
   "outputs": [],
   "source": [
    "# per crear el nostre index importarem el paquet 'index'\n",
    "from whoosh import index\n",
    "# per poder emmagatzemar índex a un directori importarem la llibreria 'os'\n",
    "import os\n",
    "#per modelar l'esquema del nostre índex emprarem l'objecte 'Schema' \n",
    "from whoosh.fields import Schema\n",
    "# a cada element del nostre esquema el definirem de tipus text.\n",
    "from whoosh.fields import TEXT # També es poden desar tipus com NUMERIC, DATETIME, BOOLEAN"
   ]
  },
  {
   "cell_type": "code",
   "execution_count": 3,
   "id": "d3848849",
   "metadata": {},
   "outputs": [],
   "source": [
    "# Definim els 3 camps del nostre esquema: autor, títol i cos\n",
    "# el paràmetre (stored=True) implica que s'emmagatzema el text original literalment\n",
    "#sinó podria que es desés el text sense stopwords per exemple.\n",
    "esquema = Schema(autor=TEXT(stored=True), \n",
    "                titol=TEXT(stored=True),\n",
    "                cos=TEXT(stored=True),\n",
    "                )"
   ]
  },
  {
   "cell_type": "code",
   "execution_count": 4,
   "id": "b6d5d6e4",
   "metadata": {},
   "outputs": [],
   "source": [
    "#crear un carpeta para desar índex\n",
    "if not os.path.exists(\"directori_index\"):\n",
    "    os.mkdir(\"directori_index\")\n",
    "    \n",
    "#crea índex (si existeix, el sobrescriu) amb l'esquema que hem definit abans\n",
    "index.create_in(\"directori_index\", esquema) \n",
    "#obre índex\n",
    "index = index.open_dir(\"directori_index\")\n",
    "#crea un objete escritor para escriure a l'índex\n",
    "writer = index.writer()\n",
    "\n",
    "# Afegim a l'índex el document/s que tenguem (fer un bucle si en tenim més d'un!)\n",
    "# vosaltres aquí haureu de recuperar les seccions de cada fitxer\n",
    "writer.add_document(\n",
    "                autor=u\"Pepito Pérez\",\n",
    "                titol=u\"El contingut de la matèria gris\", #preprocesar la cadena si es considera necessari\n",
    "                cos= u\"Aquí posarem el contingut principal\" )\n",
    "\n",
    "# tancam l'escriptor i l'índex emmgatzemant tot el que hem escrit\n",
    "writer.commit()"
   ]
  },
  {
   "cell_type": "code",
   "execution_count": 5,
   "id": "daf693dd",
   "metadata": {},
   "outputs": [
    {
     "name": "stdout",
     "output_type": "stream",
     "text": [
      "(cos:contingut OR cos:especialitzat OR cos:hotels)\n"
     ]
    }
   ],
   "source": [
    "# 'qparser' ens permetra analitzar les querys (consultes) que ens introdueixin\n",
    "from whoosh.qparser import *\n",
    "#Definir un parser per un camp concret, és a dir, només cercaré en el camp 'cos'\n",
    "parserCuerpo=QueryParser(\"cos\", schema=esquema)\n",
    "#Parsear la cadena que volem cercar per convertir-la a un objete consulta (query) format unicode\n",
    "consulta=parserCuerpo.parse(u\"contingut OR especialitzat OR hotels\") #altres operadors són AND NOT\n",
    "# el resultat és la consulta ja preparada per anar a l'índex\n",
    "print (consulta)"
   ]
  },
  {
   "cell_type": "code",
   "execution_count": 6,
   "id": "7c16a3c4",
   "metadata": {},
   "outputs": [
    {
     "name": "stdout",
     "output_type": "stream",
     "text": [
      "(titol:contingut OR cos:contingut OR titol:especialitzat OR cos:especialitzat OR titol:hotels OR cos:hotels)\n"
     ]
    }
   ],
   "source": [
    "# si volem cercar en més d'un camp de l'esquema empram el constructor 'MultifieldParser'\n",
    "parserMultiplesCamps = MultifieldParser([\"titol\", \"cos\"], schema=esquema)\n",
    "\n",
    "#Parsear la cadena per convertir-la a un objete consulta (query)\n",
    "consulta2=parserMultiplesCamps.parse(u\"contingut OR especialitzat OR hotels\")\n",
    "print (consulta2)"
   ]
  },
  {
   "cell_type": "code",
   "execution_count": 7,
   "id": "0b82cd45",
   "metadata": {},
   "outputs": [
    {
     "name": "stdout",
     "output_type": "stream",
     "text": [
      "El títol és:  El contingut de la matèria gris \n",
      "El cos és:  Aquí posarem el contingut principal \n",
      "La puntuació és:  0.6137056388801094\n"
     ]
    }
   ],
   "source": [
    "# importem 'scoring' per poder donar un pes d'importància als termes\n",
    "from whoosh import scoring\n",
    "\n",
    "# obrim índex i definim objecte 'searcher' per cercar\n",
    "# definim el sistema de pesos amb TF_IDF\n",
    "with index.searcher(weighting=scoring.TF_IDF()) as cercador:\n",
    "    # Cerca dins índex els documents més semblants retornant un màxim de 20 documents (limit)\n",
    "    # (terms = True) emmagatzema els termes que han fet match entre la consulta i el document\n",
    "    # 'documents_recuperats' tendrà tots els documents que s'han considerat interessants\n",
    "    # segons TD_IDF. A més s'ordenen els resultats per ordre d'importància, per defecte \n",
    "    # posa primer els que tenen la puntuació més alta.\n",
    "    documents_recuperats = cercador.search(consulta2, limit=20, terms = True)\n",
    "   \n",
    "    #imprimir resultats\n",
    "    for i in range(len(documents_recuperats)):\n",
    "        print(\"El títol és: \",documents_recuperats[i]['titol'], \n",
    "              \"\\nEl cos és: \",documents_recuperats[i]['cos'],\n",
    "             \"\\nLa puntuació és: \",str(documents_recuperats[i].score))"
   ]
  },
  {
   "cell_type": "code",
   "execution_count": 8,
   "id": "0ca83ba0",
   "metadata": {},
   "outputs": [
    {
     "name": "stdout",
     "output_type": "stream",
     "text": [
      "Termes en tota la colecció:  {('titol', b'contingut'), ('cos', b'contingut')}\n",
      "Termes en doc 1 [('cos', b'contingut'), ('titol', b'contingut')]\n"
     ]
    }
   ],
   "source": [
    "# Per veure els termes de la consulta que han fet match amb els documents\n",
    "if documents_recuperats.has_matched_terms():\n",
    "    # Tots els termes que han fet match\n",
    "    print('Termes en tota la colecció: ',documents_recuperats.matched_terms())\n",
    "\n",
    "    # Si es vol veure per cada terme en cada document    \n",
    "    for i, doc in enumerate(documents_recuperats, start = 1):\n",
    "        print('Termes en doc', i, doc.matched_terms())"
   ]
  },
  {
   "cell_type": "code",
   "execution_count": null,
   "id": "145da54a",
   "metadata": {},
   "outputs": [],
   "source": []
  }
 ],
 "metadata": {
  "kernelspec": {
   "display_name": "Python 3 (ipykernel)",
   "language": "python",
   "name": "python3"
  },
  "language_info": {
   "codemirror_mode": {
    "name": "ipython",
    "version": 3
   },
   "file_extension": ".py",
   "mimetype": "text/x-python",
   "name": "python",
   "nbconvert_exporter": "python",
   "pygments_lexer": "ipython3",
   "version": "3.8.8"
  }
 },
 "nbformat": 4,
 "nbformat_minor": 5
}
