{
 "cells": [
  {
   "cell_type": "markdown",
   "id": "7642e4d2",
   "metadata": {},
   "source": [
    "Juan Pablo Márquez 2022"
   ]
  },
  {
   "cell_type": "code",
   "execution_count": 21,
   "id": "33879e94",
   "metadata": {},
   "outputs": [],
   "source": [
    "# ANEM A IMPLEMENTAR EL MODEL SVM (màquines de vector de suport)\n",
    "# de la llibreria sklearn (machine learning) importam \n",
    "# el 'model_selection' que ens permetrà separar les dades d'entrenament de les de test\n",
    "# el model SVM que volem aplicar\n",
    "from sklearn import model_selection, svm\n",
    "# importem el TFidf perquè necessitem treballar amb números \n",
    "# volem aplicar un model matemàtic, no podem passar-li termes!!\n",
    "from sklearn.feature_extraction.text import TfidfVectorizer\n",
    "import pandas as pd\n",
    "# és un algortime supervisat per la classificació binària.\n",
    "# per tant hem de definir una col·lecció de documents classificats\n",
    "# i les categories que volem detectar.\n",
    "\n",
    "# la col·lecció de documents tendrà aquestes 7 frases.\n",
    "documents = [ \"Los refugiados españoles fueron encontrados en París\", \n",
    "              \"las clases obreras no podrán\", \n",
    "              \"el mundo no vivirá en París y París vivirá en el mundo\",\n",
    "              \"El horror vivido no se aguanta\",\n",
    "              \"mejor vivir que morir\",\n",
    "              \"así da gusto vivir\",\n",
    "              \"ya no puedo más\"]\n",
    "# assignarem les categories a cada frase de la col·lecció: positiu o negatiu\n",
    "classes = ['positivo','negativo','positivo','negativo','positivo', 'positivo' ,'negativo']"
   ]
  },
  {
   "cell_type": "code",
   "execution_count": 22,
   "id": "1936e919",
   "metadata": {},
   "outputs": [
    {
     "name": "stdout",
     "output_type": "stream",
     "text": [
      "['mejor vivir que morir', 'el mundo no vivirá en París y París vivirá en el mundo', 'Los refugiados españoles fueron encontrados en París', 'El horror vivido no se aguanta']\n",
      "['positivo', 'positivo', 'positivo', 'negativo']\n"
     ]
    }
   ],
   "source": [
    "# Partició de la colecció etiquetada: test:30% i entrenament:70%\n",
    "# el mètode que empram és el 'train_test_split'\n",
    "# 'shuffle=True' vol dir que mescli les frases de la col·lecció\n",
    "X_train, X_test, y_train, y_test = model_selection.train_test_split(documents, classes, test_size=0.3, shuffle=True)\n",
    "print(X_train) # imprimim els documents de la col·lecció d'entrenament\n",
    "print(y_train) # imprimim la categoria que té assignada cada document d'entrenament seleccionat"
   ]
  },
  {
   "cell_type": "code",
   "execution_count": 25,
   "id": "abd51ef7",
   "metadata": {},
   "outputs": [
    {
     "data": {
      "text/html": [
       "<div>\n",
       "<style scoped>\n",
       "    .dataframe tbody tr th:only-of-type {\n",
       "        vertical-align: middle;\n",
       "    }\n",
       "\n",
       "    .dataframe tbody tr th {\n",
       "        vertical-align: top;\n",
       "    }\n",
       "\n",
       "    .dataframe thead th {\n",
       "        text-align: right;\n",
       "    }\n",
       "</style>\n",
       "<table border=\"1\" class=\"dataframe\">\n",
       "  <thead>\n",
       "    <tr style=\"text-align: right;\">\n",
       "      <th></th>\n",
       "      <th>Pesos</th>\n",
       "    </tr>\n",
       "  </thead>\n",
       "  <tbody>\n",
       "    <tr>\n",
       "      <th>no</th>\n",
       "      <td>1.470004</td>\n",
       "    </tr>\n",
       "    <tr>\n",
       "      <th>vivir</th>\n",
       "      <td>1.980829</td>\n",
       "    </tr>\n",
       "    <tr>\n",
       "      <th>el</th>\n",
       "      <td>1.980829</td>\n",
       "    </tr>\n",
       "    <tr>\n",
       "      <th>en</th>\n",
       "      <td>1.980829</td>\n",
       "    </tr>\n",
       "    <tr>\n",
       "      <th>parís</th>\n",
       "      <td>1.980829</td>\n",
       "    </tr>\n",
       "    <tr>\n",
       "      <th>aguanta</th>\n",
       "      <td>2.386294</td>\n",
       "    </tr>\n",
       "    <tr>\n",
       "      <th>vivido</th>\n",
       "      <td>2.386294</td>\n",
       "    </tr>\n",
       "    <tr>\n",
       "      <th>se</th>\n",
       "      <td>2.386294</td>\n",
       "    </tr>\n",
       "    <tr>\n",
       "      <th>refugiados</th>\n",
       "      <td>2.386294</td>\n",
       "    </tr>\n",
       "    <tr>\n",
       "      <th>que</th>\n",
       "      <td>2.386294</td>\n",
       "    </tr>\n",
       "    <tr>\n",
       "      <th>puedo</th>\n",
       "      <td>2.386294</td>\n",
       "    </tr>\n",
       "    <tr>\n",
       "      <th>podrán</th>\n",
       "      <td>2.386294</td>\n",
       "    </tr>\n",
       "    <tr>\n",
       "      <th>obreras</th>\n",
       "      <td>2.386294</td>\n",
       "    </tr>\n",
       "    <tr>\n",
       "      <th>más</th>\n",
       "      <td>2.386294</td>\n",
       "    </tr>\n",
       "    <tr>\n",
       "      <th>mundo</th>\n",
       "      <td>2.386294</td>\n",
       "    </tr>\n",
       "    <tr>\n",
       "      <th>morir</th>\n",
       "      <td>2.386294</td>\n",
       "    </tr>\n",
       "    <tr>\n",
       "      <th>mejor</th>\n",
       "      <td>2.386294</td>\n",
       "    </tr>\n",
       "    <tr>\n",
       "      <th>los</th>\n",
       "      <td>2.386294</td>\n",
       "    </tr>\n",
       "    <tr>\n",
       "      <th>las</th>\n",
       "      <td>2.386294</td>\n",
       "    </tr>\n",
       "    <tr>\n",
       "      <th>horror</th>\n",
       "      <td>2.386294</td>\n",
       "    </tr>\n",
       "    <tr>\n",
       "      <th>gusto</th>\n",
       "      <td>2.386294</td>\n",
       "    </tr>\n",
       "    <tr>\n",
       "      <th>fueron</th>\n",
       "      <td>2.386294</td>\n",
       "    </tr>\n",
       "    <tr>\n",
       "      <th>españoles</th>\n",
       "      <td>2.386294</td>\n",
       "    </tr>\n",
       "    <tr>\n",
       "      <th>encontrados</th>\n",
       "      <td>2.386294</td>\n",
       "    </tr>\n",
       "    <tr>\n",
       "      <th>da</th>\n",
       "      <td>2.386294</td>\n",
       "    </tr>\n",
       "    <tr>\n",
       "      <th>clases</th>\n",
       "      <td>2.386294</td>\n",
       "    </tr>\n",
       "    <tr>\n",
       "      <th>así</th>\n",
       "      <td>2.386294</td>\n",
       "    </tr>\n",
       "    <tr>\n",
       "      <th>vivirá</th>\n",
       "      <td>2.386294</td>\n",
       "    </tr>\n",
       "    <tr>\n",
       "      <th>ya</th>\n",
       "      <td>2.386294</td>\n",
       "    </tr>\n",
       "  </tbody>\n",
       "</table>\n",
       "</div>"
      ],
      "text/plain": [
       "                Pesos\n",
       "no           1.470004\n",
       "vivir        1.980829\n",
       "el           1.980829\n",
       "en           1.980829\n",
       "parís        1.980829\n",
       "aguanta      2.386294\n",
       "vivido       2.386294\n",
       "se           2.386294\n",
       "refugiados   2.386294\n",
       "que          2.386294\n",
       "puedo        2.386294\n",
       "podrán       2.386294\n",
       "obreras      2.386294\n",
       "más          2.386294\n",
       "mundo        2.386294\n",
       "morir        2.386294\n",
       "mejor        2.386294\n",
       "los          2.386294\n",
       "las          2.386294\n",
       "horror       2.386294\n",
       "gusto        2.386294\n",
       "fueron       2.386294\n",
       "españoles    2.386294\n",
       "encontrados  2.386294\n",
       "da           2.386294\n",
       "clases       2.386294\n",
       "así          2.386294\n",
       "vivirá       2.386294\n",
       "ya           2.386294"
      ]
     },
     "execution_count": 25,
     "metadata": {},
     "output_type": "execute_result"
    }
   ],
   "source": [
    "# Ara que tenim dividida la col·lecció l'hem d'aplicar al nostre model matemàtic\n",
    "# TF-IDF assigna un pes a cada paraula segons la seva importància respecte la colecció de documents \n",
    "vectorizer = TfidfVectorizer()\n",
    "# el mètode 'fit' apren (entrena) el vocabulari de la nostra colecció\n",
    "# calculant el TF-IDF per tots els termes de la col·lecció\n",
    "tfidf_vocabulari=vectorizer.fit(documents)\n",
    "\n",
    "# imprimim idf valors\n",
    "df_idf = pd.DataFrame(vectorizer.idf_, index=vectorizer.get_feature_names(),columns=[\"Pesos\"]) \n",
    "# ordenam ascendentment \n",
    "df_idf.sort_values(by=['Pesos'])"
   ]
  },
  {
   "cell_type": "code",
   "execution_count": 26,
   "id": "a0f3beb9",
   "metadata": {},
   "outputs": [],
   "source": [
    "# representam matemàticament els documents d'entrenament del nostre model.\n",
    "# Per això hem de convertir a valors numèrics TF-IDF les dades d'entrenament (mètode transform)\n",
    "X_train_Tfidf = vectorizer.transform(X_train)"
   ]
  },
  {
   "cell_type": "code",
   "execution_count": 27,
   "id": "5664b800",
   "metadata": {},
   "outputs": [
    {
     "data": {
      "text/plain": [
       "SVC(kernel='linear')"
      ]
     },
     "execution_count": 27,
     "metadata": {},
     "output_type": "execute_result"
    }
   ],
   "source": [
    "# Definir el model SVM amb el mètode SVC. \n",
    "# definim el nucli linear perquè ens separi la col·lecció en dos grups emprant una línea\n",
    "SVM = svm.SVC(kernel='linear') \n",
    "# Fase d'entrenament del model amb el mètode 'fit' li pasem les dades d'entrenament\n",
    "SVM.fit(X_train_Tfidf,y_train) \n",
    "# es suposa que aquest algoritme (ja implementat a la llibreria sklearn) aprendrà a \n",
    "# classificar en base a les dades d'entrenament que li hem passat"
   ]
  },
  {
   "cell_type": "code",
   "execution_count": 38,
   "id": "cae07d7e",
   "metadata": {},
   "outputs": [
    {
     "name": "stdout",
     "output_type": "stream",
     "text": [
      "Dades de test:\n",
      " ['las clases obreras no podrán', 'ya no puedo más', 'así da gusto vivir']\n",
      "Classificació assignada:\n",
      " ['positivo' 'positivo' 'positivo']\n"
     ]
    }
   ],
   "source": [
    "# Ara que el model ja està entrenat el testejarem. Per això agafem les dades de test i les\n",
    "# transformam a valors nomèrics per poder-les passar al model matemàtic\n",
    "X_test_Tfidf = vectorizer.transform(X_test) # convertir a valors numèrics TF-IDF les dades de test.\n",
    "# empram el mètode 'predict' per fer les prediccions i hem de veure si les classifica bé!\n",
    "resultat = SVM.predict(X_test_Tfidf) \n",
    "print(\"Dades de test:\\n\",X_test)\n",
    "print(\"Classificació assignada:\\n\",resultat)"
   ]
  },
  {
   "cell_type": "code",
   "execution_count": 32,
   "id": "136ae527",
   "metadata": {},
   "outputs": [
    {
     "name": "stdout",
     "output_type": "stream",
     "text": [
      "Dades noves:\n",
      " ['no se puede con ellos', 'La vida es bella']\n",
      "Classificació assignada:\n",
      " ['positivo' 'positivo']\n"
     ]
    }
   ],
   "source": [
    "# Ara que ja està entrenat i testejat anem a provar amb una nova frase\n",
    "# abans de passar-li al mètode 'predict' l'hem de transformar numèricament\n",
    "documents_nous = [ \"no se puede con ellos\",\n",
    "                  \"La vida es bella\"]\n",
    "predictions_SVM=SVM.predict(vectorizer.transform(documents_nous))\n",
    "print(\"Dades noves:\\n\",documents_nous)\n",
    "print (\"Classificació assignada:\\n\",predictions_SVM)"
   ]
  },
  {
   "cell_type": "code",
   "execution_count": 33,
   "id": "f6083620",
   "metadata": {},
   "outputs": [],
   "source": [
    "# les matrius de confusió ens permeten avaluar el rendiment dels models supervisats\n",
    "from sklearn.metrics import confusion_matrix"
   ]
  },
  {
   "cell_type": "code",
   "execution_count": 34,
   "id": "13b36600",
   "metadata": {},
   "outputs": [
    {
     "name": "stdout",
     "output_type": "stream",
     "text": [
      "La classificació de la fase de test era: ['negativo', 'negativo', 'positivo']\n",
      "El predicció de la fase de test ha estat: ['positivo' 'positivo' 'positivo']\n",
      "0 2 0 1\n"
     ]
    }
   ],
   "source": [
    "# Ara imprimirem els valors de rendiment després de l'entrenament per veure si \n",
    "# s'han classificat els documents d'entrenament correctament\n",
    "print (\"La classificació de la fase de test era:\",y_test)\n",
    "print (\"El predicció de la fase de test ha estat:\",resultat)\n",
    "# el mètode 'ravel' ens permet separar en variables individuals el tn,fp...\n",
    "tn, fp, fn, tp  = confusion_matrix(y_test, resultat).ravel()\n",
    "print (tn, fp, fn, tp)\n",
    "# TP (true positives): nº documents perfectament identificats com a negatius\n",
    "# FP (false positives): documents considerats negatius però que NO ho eren\n",
    "# FN (false negatives): documents descartats incorrectament\n",
    "# TN (true negatives): documents identificats correctament com a positius\n"
   ]
  },
  {
   "cell_type": "code",
   "execution_count": 35,
   "id": "abab6678",
   "metadata": {},
   "outputs": [
    {
     "data": {
      "image/png": "[encoded data removed]",
      "text/plain": [
       "<Figure size 432x288 with 2 Axes>"
      ]
     },
     "metadata": {
      "needs_background": "light"
     },
     "output_type": "display_data"
    }
   ],
   "source": [
    "# mostrerem la matriu de confusió per les dades de test\n",
    "from sklearn.metrics import plot_confusion_matrix\n",
    "import matplotlib.pyplot as plt\n",
    "\n",
    "#SVM ja ha d'estar entrenat\n",
    "disp = plot_confusion_matrix(SVM, vectorizer.transform(X_test), y_test, display_labels=[\"positivo\", \"negativo\"],cmap=plt.cm.Blues) \n",
    "plt.show()"
   ]
  }
 ],
 "metadata": {
  "kernelspec": {
   "display_name": "Python 3 (ipykernel)",
   "language": "python",
   "name": "python3"
  },
  "language_info": {
   "codemirror_mode": {
    "name": "ipython",
    "version": 3
   },
   "file_extension": ".py",
   "mimetype": "text/x-python",
   "name": "python",
   "nbconvert_exporter": "python",
   "pygments_lexer": "ipython3",
   "version": "3.9.7"
  }
 },
 "nbformat": 4,
 "nbformat_minor": 5
}
