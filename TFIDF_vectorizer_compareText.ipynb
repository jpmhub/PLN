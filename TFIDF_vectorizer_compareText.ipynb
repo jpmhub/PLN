{
 "cells": [
  {
   "cell_type": "markdown",
   "id": "84c2aca2",
   "metadata": {},
   "source": [
    "Juan Pablo Márquez 2022"
   ]
  },
  {
   "cell_type": "code",
   "execution_count": 5,
   "id": "07befacd",
   "metadata": {},
   "outputs": [
    {
     "name": "stderr",
     "output_type": "stream",
     "text": [
      "[nltk_data] Downloading package stopwords to\n",
      "[nltk_data]     C:\\Users\\anton\\AppData\\Roaming\\nltk_data...\n",
      "[nltk_data]   Package stopwords is already up-to-date!\n"
     ]
    }
   ],
   "source": [
    "# EN AQUESTS EXEMPLES TREBALLAREM AMB L'OBJECTE TfidfVectorizer\n",
    "# aquesta mètrica permet donar més importància a unes o altres paraules\n",
    "# La mesura resultant assigna un pes a cada paraula de la colecció per saber la seva \"importància\"\n",
    "# per fer-ho penalitza les paraules que apareixen amb més freqüència perquè enten que són poc rellevants\n",
    "# p.e: si cerquem \"el nin plora\" dins una colecció de textos el terme \"el\" segurament\n",
    "# seria el més trobat però en canvi és el menys important en aquesta cerca!!!\n",
    "import nltk\n",
    "nltk.download(\"stopwords\") \n",
    "from nltk.corpus import stopwords\n",
    "from sklearn.feature_extraction.text import TfidfVectorizer\n",
    "doc1=\"Este ha sido un buen trabajo. No dudaría en volver a repetirlo porque es importante\"\n",
    "doc2=\"Este no ha sido para nada un buen trabajo\""
   ]
  },
  {
   "cell_type": "code",
   "execution_count": 6,
   "id": "5dba52b2",
   "metadata": {},
   "outputs": [],
   "source": [
    "# TfidfVectorizer es pot configurar amb molts de paràmetres: codificació, minúscules, stop_words, accents,...\n",
    "spanish_stopwords = stopwords.words('spanish')\n",
    "vectorizer = TfidfVectorizer(stop_words = spanish_stopwords) "
   ]
  },
  {
   "cell_type": "code",
   "execution_count": 7,
   "id": "a6975d02",
   "metadata": {},
   "outputs": [
    {
     "name": "stdout",
     "output_type": "stream",
     "text": [
      "Vocabulari de la nostra colecció: \n",
      " ['buen', 'dudaría', 'importante', 'repetirlo', 'sido', 'trabajo', 'volver']\n"
     ]
    }
   ],
   "source": [
    "# analitzem i entrenem a la vegada damunt la mateixa colecció de documents\n",
    "dades = vectorizer.fit_transform([doc1,doc2])\n",
    "print(\"Vocabulari de la nostra colecció: \\n\", vectorizer.get_feature_names())"
   ]
  },
  {
   "cell_type": "code",
   "execution_count": 8,
   "id": "cd8d9e15",
   "metadata": {},
   "outputs": [
    {
     "name": "stdout",
     "output_type": "stream",
     "text": [
      "       buen   dudaría  importante  repetirlo      sido   trabajo    volver\n",
      "0  0.302873  0.425677    0.425677   0.425677  0.302873  0.302873  0.425677\n",
      "1  0.577350  0.000000    0.000000   0.000000  0.577350  0.577350  0.000000\n"
     ]
    }
   ],
   "source": [
    "#cream un dataframe per una millor visualització\n",
    "import pandas as pd\n",
    "matriu=pd.DataFrame(dades.toarray(), columns=vectorizer.get_feature_names())\n",
    "print(matriu)\n",
    "# quan una paraula apareix a molts de documents el seu índex s'apropa més a 0\n",
    "# els valors a 0 indiquen que la paraula \"dudaría\" no es troba al segon document.\n",
    "# Aquesta mètrica també té en compte la llargària del document, les paraules\n",
    "# que es repeteixen als dos documents no tenen la mateixa importància."
   ]
  },
  {
   "cell_type": "code",
   "execution_count": 9,
   "id": "37ac4877",
   "metadata": {},
   "outputs": [
    {
     "name": "stdout",
     "output_type": "stream",
     "text": [
      "vocabulari:\n",
      " \n",
      "  {'sido buen': 5, 'buen trabajo': 0, 'trabajo dudaría': 7, 'dudaría volver': 2, 'volver repetirlo': 9, 'repetirlo importante': 4, 'sido buen trabajo': 6, 'buen trabajo dudaría': 1, 'trabajo dudaría volver': 8, 'dudaría volver repetirlo': 3, 'volver repetirlo importante': 10}\n"
     ]
    }
   ],
   "source": [
    "# Us de n-grames:  ngram_range=(min,max)\n",
    "vectorizer = TfidfVectorizer(stop_words = spanish_stopwords,ngram_range=(2,3))\n",
    "dades = vectorizer.fit_transform([doc1,doc2])\n",
    "print(\"vocabulari:\\n \\n \", vectorizer.vocabulary_)"
   ]
  },
  {
   "cell_type": "code",
   "execution_count": 10,
   "id": "dd5f8cf2",
   "metadata": {},
   "outputs": [
    {
     "name": "stdout",
     "output_type": "stream",
     "text": [
      "   buen trabajo  buen trabajo dudaría  dudaría volver  \\\n",
      "0      0.230617              0.324123        0.324123   \n",
      "1      0.577350              0.000000        0.000000   \n",
      "\n",
      "   dudaría volver repetirlo  repetirlo importante  sido buen  \\\n",
      "0                  0.324123              0.324123   0.230617   \n",
      "1                  0.000000              0.000000   0.577350   \n",
      "\n",
      "   sido buen trabajo  trabajo dudaría  trabajo dudaría volver  \\\n",
      "0           0.230617         0.324123                0.324123   \n",
      "1           0.577350         0.000000                0.000000   \n",
      "\n",
      "   volver repetirlo  volver repetirlo importante  \n",
      "0          0.324123                     0.324123  \n",
      "1          0.000000                     0.000000  \n"
     ]
    }
   ],
   "source": [
    "cv_dataframe=pd.DataFrame(dades.toarray(),columns=vectorizer.get_feature_names())\n",
    "print(cv_dataframe)"
   ]
  },
  {
   "cell_type": "code",
   "execution_count": null,
   "id": "ac06e7b2",
   "metadata": {},
   "outputs": [],
   "source": []
  }
 ],
 "metadata": {
  "kernelspec": {
   "display_name": "Python 3 (ipykernel)",
   "language": "python",
   "name": "python3"
  },
  "language_info": {
   "codemirror_mode": {
    "name": "ipython",
    "version": 3
   },
   "file_extension": ".py",
   "mimetype": "text/x-python",
   "name": "python",
   "nbconvert_exporter": "python",
   "pygments_lexer": "ipython3",
   "version": "3.9.7"
  }
 },
 "nbformat": 4,
 "nbformat_minor": 5
}
